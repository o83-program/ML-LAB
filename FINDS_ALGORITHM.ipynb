{
  "nbformat": 4,
  "nbformat_minor": 0,
  "metadata": {
    "colab": {
      "provenance": [],
      "authorship_tag": "ABX9TyMFq7gL9jGErwOcnaQggc6T",
      "include_colab_link": true
    },
    "kernelspec": {
      "name": "python3",
      "display_name": "Python 3"
    },
    "language_info": {
      "name": "python"
    }
  },
  "cells": [
    {
      "cell_type": "markdown",
      "metadata": {
        "id": "view-in-github",
        "colab_type": "text"
      },
      "source": [
        "<a href=\"https://colab.research.google.com/github/o83-program/ML-LAB/blob/main/FINDS_ALGORITHM.ipynb\" target=\"_parent\"><img src=\"https://colab.research.google.com/assets/colab-badge.svg\" alt=\"Open In Colab\"/></a>"
      ]
    },
    {
      "cell_type": "code",
      "execution_count": null,
      "metadata": {
        "colab": {
          "base_uri": "https://localhost:8080/"
        },
        "id": "12FYFwYsYqS_",
        "outputId": "57e1f5ed-2ccd-474d-a991-ee749fe66275"
      },
      "outputs": [
        {
          "output_type": "stream",
          "name": "stdout",
          "text": [
            "[['sky', 'airtemp', 'humidity', 'wind', 'water', 'forcast', 'enjoysport']]\n",
            "[['sky', 'airtemp', 'humidity', 'wind', 'water', 'forcast', 'enjoysport'], ['sunny', 'warm', 'normal', 'strong', 'warm', 'same', 'yes']]\n",
            "[['sky', 'airtemp', 'humidity', 'wind', 'water', 'forcast', 'enjoysport'], ['sunny', 'warm', 'normal', 'strong', 'warm', 'same', 'yes'], ['sunny', 'warm', 'high', 'strong', 'warm', 'same', 'yes']]\n",
            "[['sky', 'airtemp', 'humidity', 'wind', 'water', 'forcast', 'enjoysport'], ['sunny', 'warm', 'normal', 'strong', 'warm', 'same', 'yes'], ['sunny', 'warm', 'high', 'strong', 'warm', 'same', 'yes'], ['rainy', 'cold', 'high', 'strong', 'warm', 'change', 'no']]\n",
            "[['sky', 'airtemp', 'humidity', 'wind', 'water', 'forcast', 'enjoysport'], ['sunny', 'warm', 'normal', 'strong', 'warm', 'same', 'yes'], ['sunny', 'warm', 'high', 'strong', 'warm', 'same', 'yes'], ['rainy', 'cold', 'high', 'strong', 'warm', 'change', 'no'], ['sunny', 'warm', 'high', 'strong', 'cool', 'change', 'yes']]\n",
            "\n",
            " The total number of training instances are :  5\n",
            "\n",
            " The initial hypothesis is : \n",
            "['0', '0', '0', '0', '0', '0']\n",
            "\n",
            " The hypothesis for the training instance 5 is : \n",
            " ['sunny', 'warm', '?', 'strong', '?', '?']\n",
            "\n",
            " The Maximally specific hypothesis for the training instance is\n",
            "['sunny', 'warm', '?', 'strong', '?', '?']\n"
          ]
        }
      ],
      "source": [
        "import csv\n",
        "a = []\n",
        "with open('enjoysport.csv', 'r') as csvfile:\n",
        " for row in csv.reader(csvfile):\n",
        "  a.append(row)\n",
        "  print(a)\n",
        "print(\"\\n The total number of training instances are : \",len(a))\n",
        "num_attribute = len(a[0])-1\n",
        "print(\"\\n The initial hypothesis is : \")\n",
        "hypothesis = ['0']*num_attribute\n",
        "print(hypothesis)\n",
        "for i in range(0, len(a)):\n",
        " if a[i][num_attribute] == 'yes':\n",
        "      for j in range(0, num_attribute):\n",
        "          if hypothesis[j] == '0' or hypothesis[j] == a[i][j]:\n",
        "               hypothesis[j] = a[i][j]\n",
        "          else:\n",
        "                hypothesis[j] = '?'\n",
        "print(\"\\n The hypothesis for the training instance {} is : \\n\" .format(i+1),hypothesis)\n",
        "print(\"\\n The Maximally specific hypothesis for the training instance is\") \n",
        "print(hypothesis)"
      ]
    }
  ]
}
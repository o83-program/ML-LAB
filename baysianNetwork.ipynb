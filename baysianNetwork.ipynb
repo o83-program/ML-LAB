{
  "nbformat": 4,
  "nbformat_minor": 0,
  "metadata": {
    "colab": {
      "provenance": [],
      "authorship_tag": "ABX9TyMG/+DCBYG3pAm4/PGvgIFQ",
      "include_colab_link": true
    },
    "kernelspec": {
      "name": "python3",
      "display_name": "Python 3"
    },
    "language_info": {
      "name": "python"
    }
  },
  "cells": [
    {
      "cell_type": "markdown",
      "metadata": {
        "id": "view-in-github",
        "colab_type": "text"
      },
      "source": [
        "<a href=\"https://colab.research.google.com/github/o83-program/ML-LAB/blob/main/baysianNetwork.ipynb\" target=\"_parent\"><img src=\"https://colab.research.google.com/assets/colab-badge.svg\" alt=\"Open In Colab\"/></a>"
      ]
    },
    {
      "cell_type": "code",
      "execution_count": 4,
      "metadata": {
        "id": "eq4QuY93istX"
      },
      "outputs": [],
      "source": [
        "from pgmpy.models import BayesianModel\n",
        "from pgmpy.factors.discrete import TabularCPD\n",
        "from pgmpy.inference import VariableElimination"
      ]
    },
    {
      "cell_type": "code",
      "source": [],
      "metadata": {
        "id": "uLxuu_OhkziV"
      },
      "execution_count": null,
      "outputs": []
    },
    {
      "cell_type": "code",
      "source": [
        "!pip install pgmpy"
      ],
      "metadata": {
        "colab": {
          "base_uri": "https://localhost:8080/"
        },
        "id": "CBboHye-koz9",
        "outputId": "0296d584-f160-4590-880b-6e79c66e02a9"
      },
      "execution_count": 2,
      "outputs": [
        {
          "output_type": "stream",
          "name": "stdout",
          "text": [
            "Looking in indexes: https://pypi.org/simple, https://us-python.pkg.dev/colab-wheels/public/simple/\n",
            "Collecting pgmpy\n",
            "  Downloading pgmpy-0.1.22-py3-none-any.whl (1.9 MB)\n",
            "\u001b[2K     \u001b[90m━━━━━━━━━━━━━━━━━━━━━━━━━━━━━━━━━━━━━━━━\u001b[0m \u001b[32m1.9/1.9 MB\u001b[0m \u001b[31m21.8 MB/s\u001b[0m eta \u001b[36m0:00:00\u001b[0m\n",
            "\u001b[?25hRequirement already satisfied: networkx in /usr/local/lib/python3.10/dist-packages (from pgmpy) (3.1)\n",
            "Requirement already satisfied: numpy in /usr/local/lib/python3.10/dist-packages (from pgmpy) (1.22.4)\n",
            "Requirement already satisfied: scipy in /usr/local/lib/python3.10/dist-packages (from pgmpy) (1.10.1)\n",
            "Requirement already satisfied: scikit-learn in /usr/local/lib/python3.10/dist-packages (from pgmpy) (1.2.2)\n",
            "Requirement already satisfied: pandas in /usr/local/lib/python3.10/dist-packages (from pgmpy) (1.5.3)\n",
            "Requirement already satisfied: pyparsing in /usr/local/lib/python3.10/dist-packages (from pgmpy) (3.0.9)\n",
            "Requirement already satisfied: torch in /usr/local/lib/python3.10/dist-packages (from pgmpy) (2.0.1+cu118)\n",
            "Requirement already satisfied: statsmodels in /usr/local/lib/python3.10/dist-packages (from pgmpy) (0.13.5)\n",
            "Requirement already satisfied: tqdm in /usr/local/lib/python3.10/dist-packages (from pgmpy) (4.65.0)\n",
            "Requirement already satisfied: joblib in /usr/local/lib/python3.10/dist-packages (from pgmpy) (1.2.0)\n",
            "Requirement already satisfied: opt-einsum in /usr/local/lib/python3.10/dist-packages (from pgmpy) (3.3.0)\n",
            "Requirement already satisfied: python-dateutil>=2.8.1 in /usr/local/lib/python3.10/dist-packages (from pandas->pgmpy) (2.8.2)\n",
            "Requirement already satisfied: pytz>=2020.1 in /usr/local/lib/python3.10/dist-packages (from pandas->pgmpy) (2022.7.1)\n",
            "Requirement already satisfied: threadpoolctl>=2.0.0 in /usr/local/lib/python3.10/dist-packages (from scikit-learn->pgmpy) (3.1.0)\n",
            "Requirement already satisfied: patsy>=0.5.2 in /usr/local/lib/python3.10/dist-packages (from statsmodels->pgmpy) (0.5.3)\n",
            "Requirement already satisfied: packaging>=21.3 in /usr/local/lib/python3.10/dist-packages (from statsmodels->pgmpy) (23.1)\n",
            "Requirement already satisfied: filelock in /usr/local/lib/python3.10/dist-packages (from torch->pgmpy) (3.12.0)\n",
            "Requirement already satisfied: typing-extensions in /usr/local/lib/python3.10/dist-packages (from torch->pgmpy) (4.5.0)\n",
            "Requirement already satisfied: sympy in /usr/local/lib/python3.10/dist-packages (from torch->pgmpy) (1.11.1)\n",
            "Requirement already satisfied: jinja2 in /usr/local/lib/python3.10/dist-packages (from torch->pgmpy) (3.1.2)\n",
            "Requirement already satisfied: triton==2.0.0 in /usr/local/lib/python3.10/dist-packages (from torch->pgmpy) (2.0.0)\n",
            "Requirement already satisfied: cmake in /usr/local/lib/python3.10/dist-packages (from triton==2.0.0->torch->pgmpy) (3.25.2)\n",
            "Requirement already satisfied: lit in /usr/local/lib/python3.10/dist-packages (from triton==2.0.0->torch->pgmpy) (16.0.5)\n",
            "Requirement already satisfied: six in /usr/local/lib/python3.10/dist-packages (from patsy>=0.5.2->statsmodels->pgmpy) (1.16.0)\n",
            "Requirement already satisfied: MarkupSafe>=2.0 in /usr/local/lib/python3.10/dist-packages (from jinja2->torch->pgmpy) (2.1.2)\n",
            "Requirement already satisfied: mpmath>=0.19 in /usr/local/lib/python3.10/dist-packages (from sympy->torch->pgmpy) (1.3.0)\n",
            "Installing collected packages: pgmpy\n",
            "Successfully installed pgmpy-0.1.22\n"
          ]
        }
      ]
    },
    {
      "cell_type": "code",
      "source": [
        "cancer_model=BayesianModel([('Pollution','Cancer'),('Smoker','Cancer'),('Cancer','Xray'),('Cancer','Dyspnoea')])\n",
        "print('Bayesian network models are :')\n",
        "print('\\t',cancer_model.nodes())\n",
        "print('Bayesian edges are:')\n",
        "print('\\t',cancer_model.edges())"
      ],
      "metadata": {
        "colab": {
          "base_uri": "https://localhost:8080/"
        },
        "id": "rq9E4rFoktqM",
        "outputId": "ab194271-225c-40c1-e20d-201de3b34dca"
      },
      "execution_count": 5,
      "outputs": [
        {
          "output_type": "stream",
          "name": "stdout",
          "text": [
            "Bayesian network models are :\n",
            "\t ['Pollution', 'Cancer', 'Smoker', 'Xray', 'Dyspnoea']\n",
            "Bayesian edges are:\n",
            "\t [('Pollution', 'Cancer'), ('Cancer', 'Xray'), ('Cancer', 'Dyspnoea'), ('Smoker', 'Cancer')]\n"
          ]
        },
        {
          "output_type": "stream",
          "name": "stderr",
          "text": [
            "/usr/local/lib/python3.10/dist-packages/pgmpy/models/BayesianModel.py:8: FutureWarning: BayesianModel has been renamed to BayesianNetwork. Please use BayesianNetwork class, BayesianModel will be removed in future.\n",
            "  warnings.warn(\n"
          ]
        }
      ]
    },
    {
      "cell_type": "code",
      "source": [
        "cpd_poll = TabularCPD(variable='Pollution', variable_card=2,\n",
        "                      values=[[0.9], [0.1]])\n",
        "cpd_smoke = TabularCPD(variable='Smoker', variable_card=2,\n",
        "                       values=[[0.3], [0.7]])\n",
        "cpd_cancer = TabularCPD(variable='Cancer', variable_card=2,\n",
        "                        values=[[0.03, 0.05, 0.001, 0.02],\n",
        "                                [0.97, 0.95, 0.999, 0.98]],\n",
        "                        evidence=['Smoker', 'Pollution'],\n",
        "                        evidence_card=[2, 2])\n",
        "cpd_xray = TabularCPD(variable='Xray', variable_card=2,\n",
        "                      values=[[0.9, 0.2], [0.1, 0.8]],\n",
        "                      evidence=['Cancer'], evidence_card=[2])\n",
        "cpd_dysp = TabularCPD(variable='Dyspnoea', variable_card=2,\n",
        "                      values=[[0.65, 0.3], [0.35, 0.7]],\n",
        "                      evidence=['Cancer'], evidence_card=[2])"
      ],
      "metadata": {
        "id": "_xapqQfHk1FT"
      },
      "execution_count": 6,
      "outputs": []
    },
    {
      "cell_type": "code",
      "source": [
        "\n",
        "cancer_model.add_cpds(cpd_poll, cpd_smoke, cpd_cancer, cpd_xray, cpd_dysp)\n",
        "\n",
        "\n",
        "cancer_model.check_model()"
      ],
      "metadata": {
        "colab": {
          "base_uri": "https://localhost:8080/"
        },
        "id": "ezNS0qu4lqfq",
        "outputId": "ed6e4bb3-63cf-40b4-dc9d-16364ea89755"
      },
      "execution_count": 11,
      "outputs": [
        {
          "output_type": "execute_result",
          "data": {
            "text/plain": [
              "True"
            ]
          },
          "metadata": {},
          "execution_count": 11
        }
      ]
    },
    {
      "cell_type": "code",
      "source": [
        "cancer_infer=VariableElimination(cancer_model)"
      ],
      "metadata": {
        "id": "E9zekeV3ljSa"
      },
      "execution_count": 12,
      "outputs": []
    },
    {
      "cell_type": "code",
      "source": [
        "print('All local independecies are as follows')\n",
        "cancer_model.get_independencies()\n",
        "print('Displaying CPDs')\n",
        "print(cancer_model.get_cpds('Pollution'))\n",
        "print(cancer_model.get_cpds('Smoker'))\n",
        "print(cancer_model.get_cpds('Cancer'))\n",
        "print(cancer_model.get_cpds('Xray'))\n",
        "print(cancer_model.get_cpds('Dyspnoea'))"
      ],
      "metadata": {
        "colab": {
          "base_uri": "https://localhost:8080/"
        },
        "id": "PYMz1uQYk46c",
        "outputId": "165aefcc-0bc8-4517-d821-01f3318bade4"
      },
      "execution_count": 13,
      "outputs": [
        {
          "output_type": "stream",
          "name": "stdout",
          "text": [
            "All local independecies are as follows\n",
            "Displaying CPDs\n",
            "+--------------+-----+\n",
            "| Pollution(0) | 0.9 |\n",
            "+--------------+-----+\n",
            "| Pollution(1) | 0.1 |\n",
            "+--------------+-----+\n",
            "+-----------+-----+\n",
            "| Smoker(0) | 0.3 |\n",
            "+-----------+-----+\n",
            "| Smoker(1) | 0.7 |\n",
            "+-----------+-----+\n",
            "+-----------+--------------+--------------+--------------+--------------+\n",
            "| Smoker    | Smoker(0)    | Smoker(0)    | Smoker(1)    | Smoker(1)    |\n",
            "+-----------+--------------+--------------+--------------+--------------+\n",
            "| Pollution | Pollution(0) | Pollution(1) | Pollution(0) | Pollution(1) |\n",
            "+-----------+--------------+--------------+--------------+--------------+\n",
            "| Cancer(0) | 0.03         | 0.05         | 0.001        | 0.02         |\n",
            "+-----------+--------------+--------------+--------------+--------------+\n",
            "| Cancer(1) | 0.97         | 0.95         | 0.999        | 0.98         |\n",
            "+-----------+--------------+--------------+--------------+--------------+\n",
            "+---------+-----------+-----------+\n",
            "| Cancer  | Cancer(0) | Cancer(1) |\n",
            "+---------+-----------+-----------+\n",
            "| Xray(0) | 0.9       | 0.2       |\n",
            "+---------+-----------+-----------+\n",
            "| Xray(1) | 0.1       | 0.8       |\n",
            "+---------+-----------+-----------+\n",
            "+-------------+-----------+-----------+\n",
            "| Cancer      | Cancer(0) | Cancer(1) |\n",
            "+-------------+-----------+-----------+\n",
            "| Dyspnoea(0) | 0.65      | 0.3       |\n",
            "+-------------+-----------+-----------+\n",
            "| Dyspnoea(1) | 0.35      | 0.7       |\n",
            "+-------------+-----------+-----------+\n"
          ]
        }
      ]
    }
  ]
}